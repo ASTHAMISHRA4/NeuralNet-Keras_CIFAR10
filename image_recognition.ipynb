{
 "cells": [
  {
   "cell_type": "markdown",
   "id": "25c14f74-250f-4cf4-883f-f97f942b9ec4",
   "metadata": {},
   "source": [
    "# Keras CIFAR 10\n"
   ]
  },
  {
   "cell_type": "markdown",
   "id": "cd8aa235-45f3-4fc5-a21d-808d2e33338a",
   "metadata": {},
   "source": [
    "# Import"
   ]
  },
  {
   "cell_type": "code",
   "execution_count": 6,
   "id": "5218565f-b069-4488-86fe-a9b1370973db",
   "metadata": {},
   "outputs": [],
   "source": [
    "import numpy as np\n",
    "from numpy.random import seed\n",
    "seed(888)\n",
    "import tensorflow\n",
    "tensorflow.random.set_seed(404)"
   ]
  },
  {
   "cell_type": "code",
   "execution_count": 8,
   "id": "31a3b835-be90-43bf-bba5-daaadd9a2203",
   "metadata": {},
   "outputs": [],
   "source": [
    "import os\n",
    "import numpy as np\n",
    "import tensorflow as tf\n",
    "import itertools\n",
    "\n",
    "import keras\n",
    "from keras.datasets import cifar10\n",
    "from keras.models import Sequential\n",
    "from keras.layers import Dense, Activation, Dropout\n",
    "\n",
    "from IPython.display import display\n",
    "from keras.preprocessing.image import array_to_img\n",
    "from keras.callbacks import TensorBoard\n",
    "\n",
    "from time import strftime\n",
    "\n",
    "from sklearn.metrics import confusion_matrix\n",
    "\n",
    "\n",
    "import matplotlib.pyplot as plt\n",
    "\n",
    "%matplotlib inline"
   ]
  },
  {
   "cell_type": "markdown",
   "id": "79845063-4afa-4906-8413-bd968f0c6d44",
   "metadata": {},
   "source": [
    "## Constants"
   ]
  },
  {
   "cell_type": "code",
   "execution_count": 9,
   "id": "433ecf70-b580-4c50-a43a-192076123db3",
   "metadata": {},
   "outputs": [],
   "source": [
    "LOG_DIR = 'tensorboard_cifar_logs/'\n",
    "\n",
    "LABEL_NAMES = ['Plane', 'Car', 'Bird', 'Cat', 'Deer', 'Dog', 'Frog', 'Horse', 'Ship', 'Truck']\n",
    "IMAGE_WIDTH = 32\n",
    "IMAGE_HEIGHT = 32\n",
    "IMAGE_PIXELS = IMAGE_WIDTH * IMAGE_HEIGHT\n",
    "COLOR_CHANNELS = 3\n",
    "TOTAL_INPUTS = IMAGE_PIXELS * COLOR_CHANNELS\n",
    "NR_CLASSES = 10\n",
    "\n",
    "VALIDATION_SIZE = 10000\n",
    "SMALL_TRAIN_SIZE = 1000"
   ]
  },
  {
   "cell_type": "markdown",
   "id": "5ad54974-f888-4c36-ab0b-f5794ad9797c",
   "metadata": {},
   "source": [
    "## Get the data"
   ]
  },
  {
   "cell_type": "code",
   "execution_count": 10,
   "id": "289d3ab3-2ad4-40ac-a31e-98e203293b94",
   "metadata": {},
   "outputs": [
    {
     "name": "stdout",
     "output_type": "stream",
     "text": [
      "Downloading data from https://www.cs.toronto.edu/~kriz/cifar-10-python.tar.gz\n",
      "170500096/170498071 [==============================] - 5s 0us/step\n"
     ]
    }
   ],
   "source": [
    "(x_train_all, y_train_all), (x_test, y_test) = cifar10.load_data()"
   ]
  },
  {
   "cell_type": "code",
   "execution_count": 11,
   "id": "173ed3c0-aa82-42d4-887a-adc8578e4555",
   "metadata": {},
   "outputs": [
    {
     "data": {
      "text/plain": [
       "numpy.ndarray"
      ]
     },
     "execution_count": 11,
     "metadata": {},
     "output_type": "execute_result"
    }
   ],
   "source": [
    "type(cifar10)\n",
    "type(x_train_all)"
   ]
  },
  {
   "cell_type": "markdown",
   "id": "df2a913d-68f6-4682-9791-0320a368f5d2",
   "metadata": {},
   "source": [
    "## Explore the Data"
   ]
  },
  {
   "cell_type": "code",
   "execution_count": 12,
   "id": "06973db1-83f2-4ab9-8491-3c94ee423250",
   "metadata": {},
   "outputs": [
    {
     "data": {
      "text/plain": [
       "array([[[ 59,  62,  63],\n",
       "        [ 43,  46,  45],\n",
       "        [ 50,  48,  43],\n",
       "        ...,\n",
       "        [158, 132, 108],\n",
       "        [152, 125, 102],\n",
       "        [148, 124, 103]],\n",
       "\n",
       "       [[ 16,  20,  20],\n",
       "        [  0,   0,   0],\n",
       "        [ 18,   8,   0],\n",
       "        ...,\n",
       "        [123,  88,  55],\n",
       "        [119,  83,  50],\n",
       "        [122,  87,  57]],\n",
       "\n",
       "       [[ 25,  24,  21],\n",
       "        [ 16,   7,   0],\n",
       "        [ 49,  27,   8],\n",
       "        ...,\n",
       "        [118,  84,  50],\n",
       "        [120,  84,  50],\n",
       "        [109,  73,  42]],\n",
       "\n",
       "       ...,\n",
       "\n",
       "       [[208, 170,  96],\n",
       "        [201, 153,  34],\n",
       "        [198, 161,  26],\n",
       "        ...,\n",
       "        [160, 133,  70],\n",
       "        [ 56,  31,   7],\n",
       "        [ 53,  34,  20]],\n",
       "\n",
       "       [[180, 139,  96],\n",
       "        [173, 123,  42],\n",
       "        [186, 144,  30],\n",
       "        ...,\n",
       "        [184, 148,  94],\n",
       "        [ 97,  62,  34],\n",
       "        [ 83,  53,  34]],\n",
       "\n",
       "       [[177, 144, 116],\n",
       "        [168, 129,  94],\n",
       "        [179, 142,  87],\n",
       "        ...,\n",
       "        [216, 184, 140],\n",
       "        [151, 118,  84],\n",
       "        [123,  92,  72]]], dtype=uint8)"
      ]
     },
     "execution_count": 12,
     "metadata": {},
     "output_type": "execute_result"
    }
   ],
   "source": [
    "x_train_all[0]"
   ]
  },
  {
   "cell_type": "code",
   "execution_count": 13,
   "id": "5b2a33c5-757b-453a-a28e-08e3d4b0786a",
   "metadata": {},
   "outputs": [
    {
     "data": {
      "image/png": "[encoded data removed]",
      "text/plain": [
       "<PIL.Image.Image image mode=RGB size=32x32 at 0x7FE3527859D0>"
      ]
     },
     "metadata": {},
     "output_type": "display_data"
    }
   ],
   "source": [
    "pic = array_to_img(x_train_all[7])\n",
    "display(pic)"
   ]
  },
  {
   "cell_type": "code",
   "execution_count": 14,
   "id": "1c196d1f-6dbd-4dcc-beac-d947aa241461",
   "metadata": {},
   "outputs": [
    {
     "data": {
      "text/plain": [
       "(50000, 1)"
      ]
     },
     "execution_count": 14,
     "metadata": {},
     "output_type": "execute_result"
    }
   ],
   "source": [
    "y_train_all.shape"
   ]
  },
  {
   "cell_type": "code",
   "execution_count": 15,
   "id": "39709d97-3655-4e59-8520-c4632a8bd641",
   "metadata": {},
   "outputs": [
    {
     "data": {
      "text/plain": [
       "7"
      ]
     },
     "execution_count": 15,
     "metadata": {},
     "output_type": "execute_result"
    }
   ],
   "source": [
    "y_train_all[7][0]"
   ]
  },
  {
   "cell_type": "code",
   "execution_count": 16,
   "id": "9aceca61-4f54-49f4-8a3d-e6c6e4f5bc50",
   "metadata": {},
   "outputs": [
    {
     "data": {
      "text/plain": [
       "'Horse'"
      ]
     },
     "execution_count": 16,
     "metadata": {},
     "output_type": "execute_result"
    }
   ],
   "source": [
    "LABEL_NAMES[y_train_all[7][0]]"
   ]
  },
  {
   "cell_type": "code",
   "execution_count": 17,
   "id": "874badcd-0948-4207-a7ca-55926cfd2963",
   "metadata": {},
   "outputs": [
    {
     "data": {
      "image/png": "[encoded data removed]",
      "text/plain": [
       "<Figure size 432x288 with 1 Axes>"
      ]
     },
     "metadata": {
      "needs_background": "light"
     },
     "output_type": "display_data"
    }
   ],
   "source": [
    "plt.imshow(x_train_all[4])\n",
    "plt.xlabel(LABEL_NAMES[y_train_all[4][0]], fontsize=15)\n",
    "plt.show()"
   ]
  },
  {
   "cell_type": "code",
   "execution_count": 18,
   "id": "bb002f4e-3b46-46f0-bdfa-0ed55dd43018",
   "metadata": {},
   "outputs": [
    {
     "data": {
      "image/png": "[encoded data removed]",
      "text/plain": [
       "<Figure size 1080x360 with 10 Axes>"
      ]
     },
     "metadata": {},
     "output_type": "display_data"
    }
   ],
   "source": [
    "plt.figure(figsize=(15,5))\n",
    "\n",
    "for i in range(10):\n",
    "    plt.subplot(1, 10, i+1)\n",
    "    plt.yticks([])\n",
    "    plt.xticks([])\n",
    "    plt.xlabel(LABEL_NAMES[y_train_all[i][0]], fontsize=14)\n",
    "    plt.imshow(x_train_all[i])"
   ]
  },
  {
   "cell_type": "code",
   "execution_count": 19,
   "id": "26e8c2e8-c72a-4115-af44-4b7fdef1abe5",
   "metadata": {},
   "outputs": [
    {
     "data": {
      "text/plain": [
       "(32, 32, 3)"
      ]
     },
     "execution_count": 19,
     "metadata": {},
     "output_type": "execute_result"
    }
   ],
   "source": [
    "x_train_all[0].shape"
   ]
  },
  {
   "cell_type": "code",
   "execution_count": 20,
   "id": "1898e10a-00b9-4dc0-808b-d71a992c0660",
   "metadata": {},
   "outputs": [
    {
     "name": "stdout",
     "output_type": "stream",
     "text": [
      "images = 50000 \t| width = 32 \t| height = 32 \t| channels = 3\n"
     ]
    }
   ],
   "source": [
    "nr_images, x, y, c = x_train_all.shape\n",
    "print(f'images = {nr_images} \\t| width = {x} \\t| height = {y} \\t| channels = {c}')"
   ]
  },
  {
   "cell_type": "code",
   "execution_count": 21,
   "id": "a8da7c0f-83b6-4935-a48d-3b1da08688b0",
   "metadata": {},
   "outputs": [
    {
     "data": {
      "text/plain": [
       "(10000, 32, 32, 3)"
      ]
     },
     "execution_count": 21,
     "metadata": {},
     "output_type": "execute_result"
    }
   ],
   "source": [
    "x_test.shape"
   ]
  },
  {
   "cell_type": "markdown",
   "id": "c0e8d792-8bf3-491f-9127-4e597e00c95a",
   "metadata": {},
   "source": [
    "## Preprocess Data"
   ]
  },
  {
   "cell_type": "code",
   "execution_count": 22,
   "id": "dee56894-3a04-465d-9f14-bdb48a4913d9",
   "metadata": {},
   "outputs": [
    {
     "data": {
      "text/plain": [
       "numpy.uint8"
      ]
     },
     "execution_count": 22,
     "metadata": {},
     "output_type": "execute_result"
    }
   ],
   "source": [
    "type(x_train_all[0][0][0][0])"
   ]
  },
  {
   "cell_type": "code",
   "execution_count": 23,
   "id": "8613b439-d50b-457c-854e-89d66aee02ab",
   "metadata": {},
   "outputs": [],
   "source": [
    "x_train_all, x_test = x_train_all / 255.0, x_test / 255.0"
   ]
  },
  {
   "cell_type": "code",
   "execution_count": 24,
   "id": "836c1d05-69ae-497d-b977-61ba02473bf8",
   "metadata": {},
   "outputs": [
    {
     "data": {
      "text/plain": [
       "0.23137254901960785"
      ]
     },
     "execution_count": 24,
     "metadata": {},
     "output_type": "execute_result"
    }
   ],
   "source": [
    "x_train_all[0][0][0][0]"
   ]
  },
  {
   "cell_type": "code",
   "execution_count": 25,
   "id": "59f52511-f468-4a21-945b-281f39e58126",
   "metadata": {},
   "outputs": [],
   "source": [
    "x_train_all = x_train_all.reshape(x_train_all.shape[0], TOTAL_INPUTS)"
   ]
  },
  {
   "cell_type": "code",
   "execution_count": 26,
   "id": "d6366ed3-3845-4eda-8b42-cfafdc67ffcb",
   "metadata": {},
   "outputs": [
    {
     "data": {
      "text/plain": [
       "(50000, 3072)"
      ]
     },
     "execution_count": 26,
     "metadata": {},
     "output_type": "execute_result"
    }
   ],
   "source": [
    "x_train_all.shape"
   ]
  },
  {
   "cell_type": "code",
   "execution_count": 27,
   "id": "a68091cc-d234-4ea8-a895-c99864bfb5c8",
   "metadata": {},
   "outputs": [
    {
     "name": "stdout",
     "output_type": "stream",
     "text": [
      "Shape of x_test is (10000, 3072)\n"
     ]
    }
   ],
   "source": [
    "x_test = x_test.reshape(len(x_test), TOTAL_INPUTS)\n",
    "print(f'Shape of x_test is {x_test.shape}')"
   ]
  },
  {
   "cell_type": "markdown",
   "id": "af94d2ed-7961-4a3f-be95-e42a1b766795",
   "metadata": {},
   "source": [
    "### Create Validation Dataset"
   ]
  },
  {
   "cell_type": "code",
   "execution_count": 28,
   "id": "85168f60-f5d0-4fc2-b843-eb2732096467",
   "metadata": {},
   "outputs": [
    {
     "data": {
      "text/plain": [
       "(10000, 3072)"
      ]
     },
     "execution_count": 28,
     "metadata": {},
     "output_type": "execute_result"
    }
   ],
   "source": [
    "x_val = x_train_all[:VALIDATION_SIZE]\n",
    "y_val = y_train_all[:VALIDATION_SIZE]\n",
    "x_val.shape"
   ]
  },
  {
   "cell_type": "code",
   "execution_count": 29,
   "id": "8446aee1-5a93-4bb3-8bcd-aeb00c64a72c",
   "metadata": {},
   "outputs": [
    {
     "data": {
      "text/plain": [
       "(40000, 3072)"
      ]
     },
     "execution_count": 29,
     "metadata": {},
     "output_type": "execute_result"
    }
   ],
   "source": [
    "x_train = x_train_all[VALIDATION_SIZE:]\n",
    "y_train = y_train_all[VALIDATION_SIZE:]\n",
    "x_train.shape"
   ]
  },
  {
   "cell_type": "markdown",
   "id": "4ff469d0-4531-4041-8c58-7ceb7e75d219",
   "metadata": {},
   "source": [
    "# Define the Neural Network using Keras"
   ]
  },
  {
   "cell_type": "code",
   "execution_count": 39,
   "id": "85ed339f-1afb-4151-b941-33c2e84bb954",
   "metadata": {},
   "outputs": [],
   "source": [
    "x_train_xs = x_train[:SMALL_TRAIN_SIZE]\n",
    "y_train_xs = y_train[:SMALL_TRAIN_SIZE]"
   ]
  },
  {
   "cell_type": "code",
   "execution_count": 30,
   "id": "1140d83f-e721-48cc-a718-6bd236525e55",
   "metadata": {},
   "outputs": [
    {
     "name": "stderr",
     "output_type": "stream",
     "text": [
      "2022-02-06 05:09:41.781138: I tensorflow/core/platform/cpu_feature_guard.cc:142] This TensorFlow binary is optimized with oneAPI Deep Neural Network Library (oneDNN) to use the following CPU instructions in performance-critical operations:  SSE4.1 SSE4.2\n",
      "To enable them in other operations, rebuild TensorFlow with the appropriate compiler flags.\n"
     ]
    }
   ],
   "source": [
    "model_1 = Sequential([\n",
    "    Dense(units=128, input_dim=TOTAL_INPUTS, activation='relu', name='m1_hidden1'),\n",
    "    Dense(units=64, activation='relu', name='m1_hidden2'),\n",
    "    Dense(16, activation='relu', name='m1_hidden3'),\n",
    "    Dense(10, activation='softmax', name='m1_output')\n",
    "])\n",
    "\n",
    "model_1.compile(optimizer='adam', \n",
    "                loss='sparse_categorical_crossentropy', \n",
    "                metrics=['accuracy'])"
   ]
  },
  {
   "cell_type": "code",
   "execution_count": 31,
   "id": "158b27e1-755e-4ec7-8c1b-8224f70025bc",
   "metadata": {},
   "outputs": [],
   "source": [
    "model_2 = Sequential()\n",
    "model_2.add(Dropout(0.2, seed=42, input_shape=(TOTAL_INPUTS,)))\n",
    "model_2.add(Dense(128, activation='relu', name='m2_hidden1'))\n",
    "model_2.add(Dense(64, activation='relu', name='m2_hidden2'))\n",
    "model_2.add(Dense(15, activation='relu', name='m2_hidden3'))\n",
    "model_2.add(Dense(10, activation='softmax', name='m2_output'))\n",
    "\n",
    "model_2.compile(optimizer='adam', \n",
    "                loss='sparse_categorical_crossentropy', \n",
    "                metrics=['accuracy'])"
   ]
  },
  {
   "cell_type": "code",
   "execution_count": 32,
   "id": "aebee662-d9cd-45c4-b0c0-12b99808dec5",
   "metadata": {},
   "outputs": [],
   "source": [
    "model_3 = Sequential()\n",
    "model_3.add(Dropout(0.2, seed=42, input_shape=(TOTAL_INPUTS,)))\n",
    "model_3.add(Dense(128, activation='relu', name='m3_hidden1'))\n",
    "model_3.add(Dropout(0.25, seed=42))\n",
    "model_3.add(Dense(64, activation='relu', name='m3_hidden2'))\n",
    "model_3.add(Dense(15, activation='relu', name='m3_hidden3'))\n",
    "model_3.add(Dense(10, activation='softmax', name='m3_output'))\n",
    "\n",
    "model_3.compile(optimizer='adam', \n",
    "                loss='sparse_categorical_crossentropy', \n",
    "                metrics=['accuracy'])"
   ]
  },
  {
   "cell_type": "code",
   "execution_count": 33,
   "id": "5f9318a1-faae-427e-8628-0689f98773bc",
   "metadata": {},
   "outputs": [
    {
     "data": {
      "text/plain": [
       "tensorflow.python.keras.engine.sequential.Sequential"
      ]
     },
     "execution_count": 33,
     "metadata": {},
     "output_type": "execute_result"
    }
   ],
   "source": [
    "type(model_1)"
   ]
  },
  {
   "cell_type": "code",
   "execution_count": 34,
   "id": "38786202-96f2-4071-bf28-8579f9d78935",
   "metadata": {},
   "outputs": [
    {
     "name": "stdout",
     "output_type": "stream",
     "text": [
      "Model: \"sequential\"\n",
      "_________________________________________________________________\n",
      "Layer (type)                 Output Shape              Param #   \n",
      "=================================================================\n",
      "m1_hidden1 (Dense)           (None, 128)               393344    \n",
      "_________________________________________________________________\n",
      "m1_hidden2 (Dense)           (None, 64)                8256      \n",
      "_________________________________________________________________\n",
      "m1_hidden3 (Dense)           (None, 16)                1040      \n",
      "_________________________________________________________________\n",
      "m1_output (Dense)            (None, 10)                170       \n",
      "=================================================================\n",
      "Total params: 402,810\n",
      "Trainable params: 402,810\n",
      "Non-trainable params: 0\n",
      "_________________________________________________________________\n"
     ]
    }
   ],
   "source": [
    "model_1.summary()"
   ]
  },
  {
   "cell_type": "markdown",
   "id": "9af38ad2-3084-42bc-8f21-bfd18fd7cbeb",
   "metadata": {},
   "source": [
    "# Tensorboard (visualising learning)"
   ]
  },
  {
   "cell_type": "code",
   "execution_count": 49,
   "id": "209801f6-6d2f-4b61-81ea-f59939696b11",
   "metadata": {},
   "outputs": [],
   "source": [
    "def get_tensorboard(model_name):\n",
    "\n",
    "    folder_name = f'{model_name} at {strftime(\"%H %M\")}'\n",
    "    dir_paths = os.path.join(LOG_DIR, folder_name)\n",
    "\n",
    "    try:\n",
    "        os.makedirs(dir_paths)\n",
    "    except OSError as err:\n",
    "        print(err.strerror)\n",
    "    else:\n",
    "        print('Successfully created directory')\n",
    "\n",
    "    return TensorBoard(log_dir=dir_paths)"
   ]
  },
  {
   "cell_type": "markdown",
   "id": "36f1be8a-fa38-4398-8d1d-73a4ff87ed2d",
   "metadata": {},
   "source": [
    "# Fit the Model"
   ]
  },
  {
   "cell_type": "code",
   "execution_count": 37,
   "id": "3f92bc73-9831-4b5e-9b6a-9582961f85bf",
   "metadata": {},
   "outputs": [],
   "source": [
    "samples_per_batch = 1000"
   ]
  },
  {
   "cell_type": "code",
   "execution_count": 54,
   "id": "e786a980-283a-4fd1-8ca2-225eab0bb61a",
   "metadata": {},
   "outputs": [
    {
     "name": "stdout",
     "output_type": "stream",
     "text": [
      "Successfully created directory\n"
     ]
    },
    {
     "name": "stderr",
     "output_type": "stream",
     "text": [
      "2022-02-06 15:51:24.618506: I tensorflow/core/profiler/lib/profiler_session.cc:136] Profiler session initializing.\n",
      "2022-02-06 15:51:24.618518: I tensorflow/core/profiler/lib/profiler_session.cc:155] Profiler session started.\n",
      "2022-02-06 15:51:24.618564: I tensorflow/core/profiler/lib/profiler_session.cc:172] Profiler session tear down.\n",
      "2022-02-06 15:51:25.011818: I tensorflow/core/profiler/lib/profiler_session.cc:136] Profiler session initializing.\n",
      "2022-02-06 15:51:25.011838: I tensorflow/core/profiler/lib/profiler_session.cc:155] Profiler session started.\n",
      "2022-02-06 15:51:25.037729: I tensorflow/core/profiler/lib/profiler_session.cc:71] Profiler session collecting data.\n",
      "2022-02-06 15:51:25.038611: I tensorflow/core/profiler/lib/profiler_session.cc:172] Profiler session tear down.\n",
      "2022-02-06 15:51:25.039696: I tensorflow/core/profiler/rpc/client/save_profile.cc:137] Creating directory: tensorboard_cifar_logs/Model 1 at 15 51/train/plugins/profile/2022_02_06_15_51_25\n",
      "2022-02-06 15:51:25.040125: I tensorflow/core/profiler/rpc/client/save_profile.cc:143] Dumped gzipped tool data for trace.json.gz to tensorboard_cifar_logs/Model 1 at 15 51/train/plugins/profile/2022_02_06_15_51_25/Asthas-Air.lan.trace.json.gz\n",
      "2022-02-06 15:51:25.041018: I tensorflow/core/profiler/rpc/client/save_profile.cc:137] Creating directory: tensorboard_cifar_logs/Model 1 at 15 51/train/plugins/profile/2022_02_06_15_51_25\n",
      "2022-02-06 15:51:25.041114: I tensorflow/core/profiler/rpc/client/save_profile.cc:143] Dumped gzipped tool data for memory_profile.json.gz to tensorboard_cifar_logs/Model 1 at 15 51/train/plugins/profile/2022_02_06_15_51_25/Asthas-Air.lan.memory_profile.json.gz\n",
      "2022-02-06 15:51:25.041800: I tensorflow/core/profiler/rpc/client/capture_profile.cc:251] Creating directory: tensorboard_cifar_logs/Model 1 at 15 51/train/plugins/profile/2022_02_06_15_51_25Dumped tool data for xplane.pb to tensorboard_cifar_logs/Model 1 at 15 51/train/plugins/profile/2022_02_06_15_51_25/Asthas-Air.lan.xplane.pb\n",
      "Dumped tool data for overview_page.pb to tensorboard_cifar_logs/Model 1 at 15 51/train/plugins/profile/2022_02_06_15_51_25/Asthas-Air.lan.overview_page.pb\n",
      "Dumped tool data for input_pipeline.pb to tensorboard_cifar_logs/Model 1 at 15 51/train/plugins/profile/2022_02_06_15_51_25/Asthas-Air.lan.input_pipeline.pb\n",
      "Dumped tool data for tensorflow_stats.pb to tensorboard_cifar_logs/Model 1 at 15 51/train/plugins/profile/2022_02_06_15_51_25/Asthas-Air.lan.tensorflow_stats.pb\n",
      "Dumped tool data for kernel_stats.pb to tensorboard_cifar_logs/Model 1 at 15 51/train/plugins/profile/2022_02_06_15_51_25/Asthas-Air.lan.kernel_stats.pb\n",
      "\n"
     ]
    },
    {
     "name": "stdout",
     "output_type": "stream",
     "text": [
      "CPU times: user 1min 55s, sys: 2.03 s, total: 1min 58s\n",
      "Wall time: 25.1 s\n"
     ]
    },
    {
     "data": {
      "text/plain": [
       "<tensorflow.python.keras.callbacks.History at 0x7fe36051cdf0>"
      ]
     },
     "execution_count": 54,
     "metadata": {},
     "output_type": "execute_result"
    }
   ],
   "source": [
    "%%time\n",
    "nr_epochs = 150\n",
    "model_1.fit(x_train_xs, y_train_xs, batch_size=samples_per_batch, epochs=nr_epochs,\n",
    "            callbacks=[get_tensorboard('Model 1')], verbose=0, validation_data=(x_val, y_val))"
   ]
  },
  {
   "cell_type": "code",
   "execution_count": 57,
   "id": "b7aadc49-5714-4cdc-a044-04b570dec582",
   "metadata": {},
   "outputs": [
    {
     "name": "stdout",
     "output_type": "stream",
     "text": [
      "File exists\n"
     ]
    },
    {
     "name": "stderr",
     "output_type": "stream",
     "text": [
      "2022-02-06 15:52:42.521649: I tensorflow/core/profiler/lib/profiler_session.cc:136] Profiler session initializing.\n",
      "2022-02-06 15:52:42.521664: I tensorflow/core/profiler/lib/profiler_session.cc:155] Profiler session started.\n",
      "2022-02-06 15:52:42.521713: I tensorflow/core/profiler/lib/profiler_session.cc:172] Profiler session tear down.\n",
      "2022-02-06 15:52:42.865930: I tensorflow/core/profiler/lib/profiler_session.cc:136] Profiler session initializing.\n",
      "2022-02-06 15:52:42.865953: I tensorflow/core/profiler/lib/profiler_session.cc:155] Profiler session started.\n",
      "2022-02-06 15:52:42.914923: I tensorflow/core/profiler/lib/profiler_session.cc:71] Profiler session collecting data.\n",
      "2022-02-06 15:52:42.915631: I tensorflow/core/profiler/lib/profiler_session.cc:172] Profiler session tear down.\n",
      "2022-02-06 15:52:42.916322: I tensorflow/core/profiler/rpc/client/save_profile.cc:137] Creating directory: tensorboard_cifar_logs/Model 2 at 15 52/train/plugins/profile/2022_02_06_15_52_42\n",
      "2022-02-06 15:52:42.916840: I tensorflow/core/profiler/rpc/client/save_profile.cc:143] Dumped gzipped tool data for trace.json.gz to tensorboard_cifar_logs/Model 2 at 15 52/train/plugins/profile/2022_02_06_15_52_42/Asthas-Air.lan.trace.json.gz\n",
      "2022-02-06 15:52:42.917560: I tensorflow/core/profiler/rpc/client/save_profile.cc:137] Creating directory: tensorboard_cifar_logs/Model 2 at 15 52/train/plugins/profile/2022_02_06_15_52_42\n",
      "2022-02-06 15:52:42.917663: I tensorflow/core/profiler/rpc/client/save_profile.cc:143] Dumped gzipped tool data for memory_profile.json.gz to tensorboard_cifar_logs/Model 2 at 15 52/train/plugins/profile/2022_02_06_15_52_42/Asthas-Air.lan.memory_profile.json.gz\n",
      "2022-02-06 15:52:42.918419: I tensorflow/core/profiler/rpc/client/capture_profile.cc:251] Creating directory: tensorboard_cifar_logs/Model 2 at 15 52/train/plugins/profile/2022_02_06_15_52_42Dumped tool data for xplane.pb to tensorboard_cifar_logs/Model 2 at 15 52/train/plugins/profile/2022_02_06_15_52_42/Asthas-Air.lan.xplane.pb\n",
      "Dumped tool data for overview_page.pb to tensorboard_cifar_logs/Model 2 at 15 52/train/plugins/profile/2022_02_06_15_52_42/Asthas-Air.lan.overview_page.pb\n",
      "Dumped tool data for input_pipeline.pb to tensorboard_cifar_logs/Model 2 at 15 52/train/plugins/profile/2022_02_06_15_52_42/Asthas-Air.lan.input_pipeline.pb\n",
      "Dumped tool data for tensorflow_stats.pb to tensorboard_cifar_logs/Model 2 at 15 52/train/plugins/profile/2022_02_06_15_52_42/Asthas-Air.lan.tensorflow_stats.pb\n",
      "Dumped tool data for kernel_stats.pb to tensorboard_cifar_logs/Model 2 at 15 52/train/plugins/profile/2022_02_06_15_52_42/Asthas-Air.lan.kernel_stats.pb\n",
      "\n"
     ]
    },
    {
     "name": "stdout",
     "output_type": "stream",
     "text": [
      "CPU times: user 2min 3s, sys: 2.47 s, total: 2min 5s\n",
      "Wall time: 26.4 s\n"
     ]
    },
    {
     "data": {
      "text/plain": [
       "<tensorflow.python.keras.callbacks.History at 0x7fe3203ae160>"
      ]
     },
     "execution_count": 57,
     "metadata": {},
     "output_type": "execute_result"
    }
   ],
   "source": [
    "%%time\n",
    "nr_epochs = 150\n",
    "model_2.fit(x_train_xs, y_train_xs, batch_size=samples_per_batch, epochs=nr_epochs,\n",
    "            callbacks=[get_tensorboard('Model 2')], verbose=0, validation_data=(x_val, y_val))"
   ]
  },
  {
   "cell_type": "code",
   "execution_count": 53,
   "id": "3631e02d-b294-40e8-98d8-e0795f13485c",
   "metadata": {},
   "outputs": [
    {
     "name": "stdout",
     "output_type": "stream",
     "text": [
      "Successfully created directory\n"
     ]
    },
    {
     "name": "stderr",
     "output_type": "stream",
     "text": [
      "2022-02-06 15:49:31.618350: I tensorflow/core/profiler/lib/profiler_session.cc:136] Profiler session initializing.\n",
      "2022-02-06 15:49:31.618370: I tensorflow/core/profiler/lib/profiler_session.cc:155] Profiler session started.\n",
      "2022-02-06 15:49:31.618430: I tensorflow/core/profiler/lib/profiler_session.cc:172] Profiler session tear down.\n",
      "2022-02-06 15:49:33.697885: I tensorflow/core/profiler/lib/profiler_session.cc:136] Profiler session initializing.\n",
      "2022-02-06 15:49:33.697918: I tensorflow/core/profiler/lib/profiler_session.cc:155] Profiler session started.\n",
      "2022-02-06 15:49:33.725985: I tensorflow/core/profiler/lib/profiler_session.cc:71] Profiler session collecting data.\n",
      "2022-02-06 15:49:33.726664: I tensorflow/core/profiler/lib/profiler_session.cc:172] Profiler session tear down.\n",
      "2022-02-06 15:49:33.727512: I tensorflow/core/profiler/rpc/client/save_profile.cc:137] Creating directory: tensorboard_cifar_logs/Model 1 XL at 15 49/train/plugins/profile/2022_02_06_15_49_33\n",
      "2022-02-06 15:49:33.727890: I tensorflow/core/profiler/rpc/client/save_profile.cc:143] Dumped gzipped tool data for trace.json.gz to tensorboard_cifar_logs/Model 1 XL at 15 49/train/plugins/profile/2022_02_06_15_49_33/Asthas-Air.lan.trace.json.gz\n",
      "2022-02-06 15:49:33.728932: I tensorflow/core/profiler/rpc/client/save_profile.cc:137] Creating directory: tensorboard_cifar_logs/Model 1 XL at 15 49/train/plugins/profile/2022_02_06_15_49_33\n",
      "2022-02-06 15:49:33.729059: I tensorflow/core/profiler/rpc/client/save_profile.cc:143] Dumped gzipped tool data for memory_profile.json.gz to tensorboard_cifar_logs/Model 1 XL at 15 49/train/plugins/profile/2022_02_06_15_49_33/Asthas-Air.lan.memory_profile.json.gz\n",
      "2022-02-06 15:49:33.729393: I tensorflow/core/profiler/rpc/client/capture_profile.cc:251] Creating directory: tensorboard_cifar_logs/Model 1 XL at 15 49/train/plugins/profile/2022_02_06_15_49_33Dumped tool data for xplane.pb to tensorboard_cifar_logs/Model 1 XL at 15 49/train/plugins/profile/2022_02_06_15_49_33/Asthas-Air.lan.xplane.pb\n",
      "Dumped tool data for overview_page.pb to tensorboard_cifar_logs/Model 1 XL at 15 49/train/plugins/profile/2022_02_06_15_49_33/Asthas-Air.lan.overview_page.pb\n",
      "Dumped tool data for input_pipeline.pb to tensorboard_cifar_logs/Model 1 XL at 15 49/train/plugins/profile/2022_02_06_15_49_33/Asthas-Air.lan.input_pipeline.pb\n",
      "Dumped tool data for tensorflow_stats.pb to tensorboard_cifar_logs/Model 1 XL at 15 49/train/plugins/profile/2022_02_06_15_49_33/Asthas-Air.lan.tensorflow_stats.pb\n",
      "Dumped tool data for kernel_stats.pb to tensorboard_cifar_logs/Model 1 XL at 15 49/train/plugins/profile/2022_02_06_15_49_33/Asthas-Air.lan.kernel_stats.pb\n",
      "\n"
     ]
    },
    {
     "name": "stdout",
     "output_type": "stream",
     "text": [
      "CPU times: user 9min 53s, sys: 13.7 s, total: 10min 7s\n",
      "Wall time: 1min 52s\n"
     ]
    },
    {
     "data": {
      "text/plain": [
       "<tensorflow.python.keras.callbacks.History at 0x7fe3201deca0>"
      ]
     },
     "execution_count": 53,
     "metadata": {},
     "output_type": "execute_result"
    }
   ],
   "source": [
    "%%time\n",
    "nr_epochs = 100\n",
    "model_1.fit(x_train, y_train, batch_size=samples_per_batch, epochs=nr_epochs,\n",
    "            callbacks=[get_tensorboard('Model 1 XL')], verbose=0, validation_data=(x_val, y_val))"
   ]
  },
  {
   "cell_type": "code",
   "execution_count": 58,
   "id": "e8d6d9e5-580a-4d24-b0a1-afc712be966d",
   "metadata": {},
   "outputs": [
    {
     "name": "stdout",
     "output_type": "stream",
     "text": [
      "Successfully created directory\n"
     ]
    },
    {
     "name": "stderr",
     "output_type": "stream",
     "text": [
      "2022-02-06 15:57:40.074790: I tensorflow/core/profiler/lib/profiler_session.cc:136] Profiler session initializing.\n",
      "2022-02-06 15:57:40.074816: I tensorflow/core/profiler/lib/profiler_session.cc:155] Profiler session started.\n",
      "2022-02-06 15:57:40.075063: I tensorflow/core/profiler/lib/profiler_session.cc:172] Profiler session tear down.\n",
      "2022-02-06 15:57:40.808111: I tensorflow/core/profiler/lib/profiler_session.cc:136] Profiler session initializing.\n",
      "2022-02-06 15:57:40.808129: I tensorflow/core/profiler/lib/profiler_session.cc:155] Profiler session started.\n",
      "2022-02-06 15:57:40.842194: I tensorflow/core/profiler/lib/profiler_session.cc:71] Profiler session collecting data.\n",
      "2022-02-06 15:57:40.843843: I tensorflow/core/profiler/lib/profiler_session.cc:172] Profiler session tear down.\n",
      "2022-02-06 15:57:40.844654: I tensorflow/core/profiler/rpc/client/save_profile.cc:137] Creating directory: tensorboard_cifar_logs/Model 2 XL at 15 57/train/plugins/profile/2022_02_06_15_57_40\n",
      "2022-02-06 15:57:40.844986: I tensorflow/core/profiler/rpc/client/save_profile.cc:143] Dumped gzipped tool data for trace.json.gz to tensorboard_cifar_logs/Model 2 XL at 15 57/train/plugins/profile/2022_02_06_15_57_40/Asthas-Air.lan.trace.json.gz\n",
      "2022-02-06 15:57:40.845685: I tensorflow/core/profiler/rpc/client/save_profile.cc:137] Creating directory: tensorboard_cifar_logs/Model 2 XL at 15 57/train/plugins/profile/2022_02_06_15_57_40\n",
      "2022-02-06 15:57:40.845791: I tensorflow/core/profiler/rpc/client/save_profile.cc:143] Dumped gzipped tool data for memory_profile.json.gz to tensorboard_cifar_logs/Model 2 XL at 15 57/train/plugins/profile/2022_02_06_15_57_40/Asthas-Air.lan.memory_profile.json.gz\n",
      "2022-02-06 15:57:40.846144: I tensorflow/core/profiler/rpc/client/capture_profile.cc:251] Creating directory: tensorboard_cifar_logs/Model 2 XL at 15 57/train/plugins/profile/2022_02_06_15_57_40Dumped tool data for xplane.pb to tensorboard_cifar_logs/Model 2 XL at 15 57/train/plugins/profile/2022_02_06_15_57_40/Asthas-Air.lan.xplane.pb\n",
      "Dumped tool data for overview_page.pb to tensorboard_cifar_logs/Model 2 XL at 15 57/train/plugins/profile/2022_02_06_15_57_40/Asthas-Air.lan.overview_page.pb\n",
      "Dumped tool data for input_pipeline.pb to tensorboard_cifar_logs/Model 2 XL at 15 57/train/plugins/profile/2022_02_06_15_57_40/Asthas-Air.lan.input_pipeline.pb\n",
      "Dumped tool data for tensorflow_stats.pb to tensorboard_cifar_logs/Model 2 XL at 15 57/train/plugins/profile/2022_02_06_15_57_40/Asthas-Air.lan.tensorflow_stats.pb\n",
      "Dumped tool data for kernel_stats.pb to tensorboard_cifar_logs/Model 2 XL at 15 57/train/plugins/profile/2022_02_06_15_57_40/Asthas-Air.lan.kernel_stats.pb\n",
      "\n"
     ]
    },
    {
     "name": "stdout",
     "output_type": "stream",
     "text": [
      "CPU times: user 11min 59s, sys: 21 s, total: 12min 20s\n",
      "Wall time: 2min 16s\n"
     ]
    },
    {
     "data": {
      "text/plain": [
       "<tensorflow.python.keras.callbacks.History at 0x7fe320280c40>"
      ]
     },
     "execution_count": 58,
     "metadata": {},
     "output_type": "execute_result"
    }
   ],
   "source": [
    "%%time\n",
    "nr_epochs = 100\n",
    "model_2.fit(x_train, y_train, batch_size=samples_per_batch, epochs=nr_epochs,\n",
    "            callbacks=[get_tensorboard('Model 2 XL')], verbose=0, validation_data=(x_val, y_val))"
   ]
  },
  {
   "cell_type": "code",
   "execution_count": 59,
   "id": "5a277c50-2441-4485-afb4-1520b6ca121f",
   "metadata": {},
   "outputs": [
    {
     "name": "stdout",
     "output_type": "stream",
     "text": [
      "Successfully created directory\n"
     ]
    },
    {
     "name": "stderr",
     "output_type": "stream",
     "text": [
      "2022-02-06 15:59:56.669535: I tensorflow/core/profiler/lib/profiler_session.cc:136] Profiler session initializing.\n",
      "2022-02-06 15:59:56.669547: I tensorflow/core/profiler/lib/profiler_session.cc:155] Profiler session started.\n",
      "2022-02-06 15:59:56.669610: I tensorflow/core/profiler/lib/profiler_session.cc:172] Profiler session tear down.\n",
      "2022-02-06 15:59:57.695499: I tensorflow/core/profiler/lib/profiler_session.cc:136] Profiler session initializing.\n",
      "2022-02-06 15:59:57.695522: I tensorflow/core/profiler/lib/profiler_session.cc:155] Profiler session started.\n",
      "2022-02-06 15:59:57.731924: I tensorflow/core/profiler/lib/profiler_session.cc:71] Profiler session collecting data.\n",
      "2022-02-06 15:59:57.732810: I tensorflow/core/profiler/lib/profiler_session.cc:172] Profiler session tear down.\n",
      "2022-02-06 15:59:57.733839: I tensorflow/core/profiler/rpc/client/save_profile.cc:137] Creating directory: tensorboard_cifar_logs/Model 2 XL at 15 59/train/plugins/profile/2022_02_06_15_59_57\n",
      "2022-02-06 15:59:57.734262: I tensorflow/core/profiler/rpc/client/save_profile.cc:143] Dumped gzipped tool data for trace.json.gz to tensorboard_cifar_logs/Model 2 XL at 15 59/train/plugins/profile/2022_02_06_15_59_57/Asthas-Air.lan.trace.json.gz\n",
      "2022-02-06 15:59:57.737455: I tensorflow/core/profiler/rpc/client/save_profile.cc:137] Creating directory: tensorboard_cifar_logs/Model 2 XL at 15 59/train/plugins/profile/2022_02_06_15_59_57\n",
      "2022-02-06 15:59:57.741375: I tensorflow/core/profiler/rpc/client/save_profile.cc:143] Dumped gzipped tool data for memory_profile.json.gz to tensorboard_cifar_logs/Model 2 XL at 15 59/train/plugins/profile/2022_02_06_15_59_57/Asthas-Air.lan.memory_profile.json.gz\n",
      "2022-02-06 15:59:57.741743: I tensorflow/core/profiler/rpc/client/capture_profile.cc:251] Creating directory: tensorboard_cifar_logs/Model 2 XL at 15 59/train/plugins/profile/2022_02_06_15_59_57Dumped tool data for xplane.pb to tensorboard_cifar_logs/Model 2 XL at 15 59/train/plugins/profile/2022_02_06_15_59_57/Asthas-Air.lan.xplane.pb\n",
      "Dumped tool data for overview_page.pb to tensorboard_cifar_logs/Model 2 XL at 15 59/train/plugins/profile/2022_02_06_15_59_57/Asthas-Air.lan.overview_page.pb\n",
      "Dumped tool data for input_pipeline.pb to tensorboard_cifar_logs/Model 2 XL at 15 59/train/plugins/profile/2022_02_06_15_59_57/Asthas-Air.lan.input_pipeline.pb\n",
      "Dumped tool data for tensorflow_stats.pb to tensorboard_cifar_logs/Model 2 XL at 15 59/train/plugins/profile/2022_02_06_15_59_57/Asthas-Air.lan.tensorflow_stats.pb\n",
      "Dumped tool data for kernel_stats.pb to tensorboard_cifar_logs/Model 2 XL at 15 59/train/plugins/profile/2022_02_06_15_59_57/Asthas-Air.lan.kernel_stats.pb\n",
      "\n"
     ]
    },
    {
     "ename": "KeyboardInterrupt",
     "evalue": "",
     "output_type": "error",
     "traceback": [
      "\u001b[0;31m---------------------------------------------------------------------------\u001b[0m",
      "\u001b[0;31mKeyboardInterrupt\u001b[0m                         Traceback (most recent call last)",
      "\u001b[0;32m<timed exec>\u001b[0m in \u001b[0;36m<module>\u001b[0;34m\u001b[0m\n",
      "\u001b[0;32m~/opt/miniconda3/lib/python3.9/site-packages/tensorflow/python/keras/engine/training.py\u001b[0m in \u001b[0;36mfit\u001b[0;34m(self, x, y, batch_size, epochs, verbose, callbacks, validation_split, validation_data, shuffle, class_weight, sample_weight, initial_epoch, steps_per_epoch, validation_steps, validation_batch_size, validation_freq, max_queue_size, workers, use_multiprocessing)\u001b[0m\n\u001b[1;32m   1098\u001b[0m                 _r=1):\n\u001b[1;32m   1099\u001b[0m               \u001b[0mcallbacks\u001b[0m\u001b[0;34m.\u001b[0m\u001b[0mon_train_batch_begin\u001b[0m\u001b[0;34m(\u001b[0m\u001b[0mstep\u001b[0m\u001b[0;34m)\u001b[0m\u001b[0;34m\u001b[0m\u001b[0;34m\u001b[0m\u001b[0m\n\u001b[0;32m-> 1100\u001b[0;31m               \u001b[0mtmp_logs\u001b[0m \u001b[0;34m=\u001b[0m \u001b[0mself\u001b[0m\u001b[0;34m.\u001b[0m\u001b[0mtrain_function\u001b[0m\u001b[0;34m(\u001b[0m\u001b[0miterator\u001b[0m\u001b[0;34m)\u001b[0m\u001b[0;34m\u001b[0m\u001b[0;34m\u001b[0m\u001b[0m\n\u001b[0m\u001b[1;32m   1101\u001b[0m               \u001b[0;32mif\u001b[0m \u001b[0mdata_handler\u001b[0m\u001b[0;34m.\u001b[0m\u001b[0mshould_sync\u001b[0m\u001b[0;34m:\u001b[0m\u001b[0;34m\u001b[0m\u001b[0;34m\u001b[0m\u001b[0m\n\u001b[1;32m   1102\u001b[0m                 \u001b[0mcontext\u001b[0m\u001b[0;34m.\u001b[0m\u001b[0masync_wait\u001b[0m\u001b[0;34m(\u001b[0m\u001b[0;34m)\u001b[0m\u001b[0;34m\u001b[0m\u001b[0;34m\u001b[0m\u001b[0m\n",
      "\u001b[0;32m~/opt/miniconda3/lib/python3.9/site-packages/tensorflow/python/eager/def_function.py\u001b[0m in \u001b[0;36m__call__\u001b[0;34m(self, *args, **kwds)\u001b[0m\n\u001b[1;32m    826\u001b[0m     \u001b[0mtracing_count\u001b[0m \u001b[0;34m=\u001b[0m \u001b[0mself\u001b[0m\u001b[0;34m.\u001b[0m\u001b[0mexperimental_get_tracing_count\u001b[0m\u001b[0;34m(\u001b[0m\u001b[0;34m)\u001b[0m\u001b[0;34m\u001b[0m\u001b[0;34m\u001b[0m\u001b[0m\n\u001b[1;32m    827\u001b[0m     \u001b[0;32mwith\u001b[0m \u001b[0mtrace\u001b[0m\u001b[0;34m.\u001b[0m\u001b[0mTrace\u001b[0m\u001b[0;34m(\u001b[0m\u001b[0mself\u001b[0m\u001b[0;34m.\u001b[0m\u001b[0m_name\u001b[0m\u001b[0;34m)\u001b[0m \u001b[0;32mas\u001b[0m \u001b[0mtm\u001b[0m\u001b[0;34m:\u001b[0m\u001b[0;34m\u001b[0m\u001b[0;34m\u001b[0m\u001b[0m\n\u001b[0;32m--> 828\u001b[0;31m       \u001b[0mresult\u001b[0m \u001b[0;34m=\u001b[0m \u001b[0mself\u001b[0m\u001b[0;34m.\u001b[0m\u001b[0m_call\u001b[0m\u001b[0;34m(\u001b[0m\u001b[0;34m*\u001b[0m\u001b[0margs\u001b[0m\u001b[0;34m,\u001b[0m \u001b[0;34m**\u001b[0m\u001b[0mkwds\u001b[0m\u001b[0;34m)\u001b[0m\u001b[0;34m\u001b[0m\u001b[0;34m\u001b[0m\u001b[0m\n\u001b[0m\u001b[1;32m    829\u001b[0m       \u001b[0mcompiler\u001b[0m \u001b[0;34m=\u001b[0m \u001b[0;34m\"xla\"\u001b[0m \u001b[0;32mif\u001b[0m \u001b[0mself\u001b[0m\u001b[0;34m.\u001b[0m\u001b[0m_experimental_compile\u001b[0m \u001b[0;32melse\u001b[0m \u001b[0;34m\"nonXla\"\u001b[0m\u001b[0;34m\u001b[0m\u001b[0;34m\u001b[0m\u001b[0m\n\u001b[1;32m    830\u001b[0m       \u001b[0mnew_tracing_count\u001b[0m \u001b[0;34m=\u001b[0m \u001b[0mself\u001b[0m\u001b[0;34m.\u001b[0m\u001b[0mexperimental_get_tracing_count\u001b[0m\u001b[0;34m(\u001b[0m\u001b[0;34m)\u001b[0m\u001b[0;34m\u001b[0m\u001b[0;34m\u001b[0m\u001b[0m\n",
      "\u001b[0;32m~/opt/miniconda3/lib/python3.9/site-packages/tensorflow/python/eager/def_function.py\u001b[0m in \u001b[0;36m_call\u001b[0;34m(self, *args, **kwds)\u001b[0m\n\u001b[1;32m    853\u001b[0m       \u001b[0;31m# In this case we have created variables on the first call, so we run the\u001b[0m\u001b[0;34m\u001b[0m\u001b[0;34m\u001b[0m\u001b[0m\n\u001b[1;32m    854\u001b[0m       \u001b[0;31m# defunned version which is guaranteed to never create variables.\u001b[0m\u001b[0;34m\u001b[0m\u001b[0;34m\u001b[0m\u001b[0m\n\u001b[0;32m--> 855\u001b[0;31m       \u001b[0;32mreturn\u001b[0m \u001b[0mself\u001b[0m\u001b[0;34m.\u001b[0m\u001b[0m_stateless_fn\u001b[0m\u001b[0;34m(\u001b[0m\u001b[0;34m*\u001b[0m\u001b[0margs\u001b[0m\u001b[0;34m,\u001b[0m \u001b[0;34m**\u001b[0m\u001b[0mkwds\u001b[0m\u001b[0;34m)\u001b[0m  \u001b[0;31m# pylint: disable=not-callable\u001b[0m\u001b[0;34m\u001b[0m\u001b[0;34m\u001b[0m\u001b[0m\n\u001b[0m\u001b[1;32m    856\u001b[0m     \u001b[0;32melif\u001b[0m \u001b[0mself\u001b[0m\u001b[0;34m.\u001b[0m\u001b[0m_stateful_fn\u001b[0m \u001b[0;32mis\u001b[0m \u001b[0;32mnot\u001b[0m \u001b[0;32mNone\u001b[0m\u001b[0;34m:\u001b[0m\u001b[0;34m\u001b[0m\u001b[0;34m\u001b[0m\u001b[0m\n\u001b[1;32m    857\u001b[0m       \u001b[0;31m# Release the lock early so that multiple threads can perform the call\u001b[0m\u001b[0;34m\u001b[0m\u001b[0;34m\u001b[0m\u001b[0m\n",
      "\u001b[0;32m~/opt/miniconda3/lib/python3.9/site-packages/tensorflow/python/eager/function.py\u001b[0m in \u001b[0;36m__call__\u001b[0;34m(self, *args, **kwargs)\u001b[0m\n\u001b[1;32m   2940\u001b[0m       (graph_function,\n\u001b[1;32m   2941\u001b[0m        filtered_flat_args) = self._maybe_define_function(args, kwargs)\n\u001b[0;32m-> 2942\u001b[0;31m     return graph_function._call_flat(\n\u001b[0m\u001b[1;32m   2943\u001b[0m         filtered_flat_args, captured_inputs=graph_function.captured_inputs)  # pylint: disable=protected-access\n\u001b[1;32m   2944\u001b[0m \u001b[0;34m\u001b[0m\u001b[0m\n",
      "\u001b[0;32m~/opt/miniconda3/lib/python3.9/site-packages/tensorflow/python/eager/function.py\u001b[0m in \u001b[0;36m_call_flat\u001b[0;34m(self, args, captured_inputs, cancellation_manager)\u001b[0m\n\u001b[1;32m   1916\u001b[0m         and executing_eagerly):\n\u001b[1;32m   1917\u001b[0m       \u001b[0;31m# No tape is watching; skip to running the function.\u001b[0m\u001b[0;34m\u001b[0m\u001b[0;34m\u001b[0m\u001b[0m\n\u001b[0;32m-> 1918\u001b[0;31m       return self._build_call_outputs(self._inference_function.call(\n\u001b[0m\u001b[1;32m   1919\u001b[0m           ctx, args, cancellation_manager=cancellation_manager))\n\u001b[1;32m   1920\u001b[0m     forward_backward = self._select_forward_and_backward_functions(\n",
      "\u001b[0;32m~/opt/miniconda3/lib/python3.9/site-packages/tensorflow/python/eager/function.py\u001b[0m in \u001b[0;36mcall\u001b[0;34m(self, ctx, args, cancellation_manager)\u001b[0m\n\u001b[1;32m    553\u001b[0m       \u001b[0;32mwith\u001b[0m \u001b[0m_InterpolateFunctionError\u001b[0m\u001b[0;34m(\u001b[0m\u001b[0mself\u001b[0m\u001b[0;34m)\u001b[0m\u001b[0;34m:\u001b[0m\u001b[0;34m\u001b[0m\u001b[0;34m\u001b[0m\u001b[0m\n\u001b[1;32m    554\u001b[0m         \u001b[0;32mif\u001b[0m \u001b[0mcancellation_manager\u001b[0m \u001b[0;32mis\u001b[0m \u001b[0;32mNone\u001b[0m\u001b[0;34m:\u001b[0m\u001b[0;34m\u001b[0m\u001b[0;34m\u001b[0m\u001b[0m\n\u001b[0;32m--> 555\u001b[0;31m           outputs = execute.execute(\n\u001b[0m\u001b[1;32m    556\u001b[0m               \u001b[0mstr\u001b[0m\u001b[0;34m(\u001b[0m\u001b[0mself\u001b[0m\u001b[0;34m.\u001b[0m\u001b[0msignature\u001b[0m\u001b[0;34m.\u001b[0m\u001b[0mname\u001b[0m\u001b[0;34m)\u001b[0m\u001b[0;34m,\u001b[0m\u001b[0;34m\u001b[0m\u001b[0;34m\u001b[0m\u001b[0m\n\u001b[1;32m    557\u001b[0m               \u001b[0mnum_outputs\u001b[0m\u001b[0;34m=\u001b[0m\u001b[0mself\u001b[0m\u001b[0;34m.\u001b[0m\u001b[0m_num_outputs\u001b[0m\u001b[0;34m,\u001b[0m\u001b[0;34m\u001b[0m\u001b[0;34m\u001b[0m\u001b[0m\n",
      "\u001b[0;32m~/opt/miniconda3/lib/python3.9/site-packages/tensorflow/python/eager/execute.py\u001b[0m in \u001b[0;36mquick_execute\u001b[0;34m(op_name, num_outputs, inputs, attrs, ctx, name)\u001b[0m\n\u001b[1;32m     57\u001b[0m   \u001b[0;32mtry\u001b[0m\u001b[0;34m:\u001b[0m\u001b[0;34m\u001b[0m\u001b[0;34m\u001b[0m\u001b[0m\n\u001b[1;32m     58\u001b[0m     \u001b[0mctx\u001b[0m\u001b[0;34m.\u001b[0m\u001b[0mensure_initialized\u001b[0m\u001b[0;34m(\u001b[0m\u001b[0;34m)\u001b[0m\u001b[0;34m\u001b[0m\u001b[0;34m\u001b[0m\u001b[0m\n\u001b[0;32m---> 59\u001b[0;31m     tensors = pywrap_tfe.TFE_Py_Execute(ctx._handle, device_name, op_name,\n\u001b[0m\u001b[1;32m     60\u001b[0m                                         inputs, attrs, num_outputs)\n\u001b[1;32m     61\u001b[0m   \u001b[0;32mexcept\u001b[0m \u001b[0mcore\u001b[0m\u001b[0;34m.\u001b[0m\u001b[0m_NotOkStatusException\u001b[0m \u001b[0;32mas\u001b[0m \u001b[0me\u001b[0m\u001b[0;34m:\u001b[0m\u001b[0;34m\u001b[0m\u001b[0;34m\u001b[0m\u001b[0m\n",
      "\u001b[0;31mKeyboardInterrupt\u001b[0m: "
     ]
    }
   ],
   "source": [
    "%%time\n",
    "nr_epochs = 100\n",
    "model_3.fit(x_train, y_train, batch_size=samples_per_batch, epochs=nr_epochs,\n",
    "            callbacks=[get_tensorboard('Model 2 XL')], verbose=0, validation_data=(x_val, y_val))"
   ]
  },
  {
   "cell_type": "markdown",
   "id": "eb7cc1bb-86d0-4f05-a830-bddfb5df0457",
   "metadata": {},
   "source": [
    "# Predictions on Individual Images"
   ]
  },
  {
   "cell_type": "code",
   "execution_count": 69,
   "id": "54aafb3b-7d6d-4fc8-81b6-e7c8b445fab4",
   "metadata": {},
   "outputs": [
    {
     "data": {
      "text/plain": [
       "(3072,)"
      ]
     },
     "execution_count": 69,
     "metadata": {},
     "output_type": "execute_result"
    }
   ],
   "source": [
    "x_val[0].shape"
   ]
  },
  {
   "cell_type": "code",
   "execution_count": 70,
   "id": "67e74ddd-4619-4b30-bd29-9b3a9765ef77",
   "metadata": {},
   "outputs": [
    {
     "data": {
      "text/plain": [
       "(1, 3072)"
      ]
     },
     "execution_count": 70,
     "metadata": {},
     "output_type": "execute_result"
    }
   ],
   "source": [
    "test = np.expand_dims(x_val[0], axis=0)\n",
    "test.shape"
   ]
  },
  {
   "cell_type": "code",
   "execution_count": 71,
   "id": "9ec0c35a-5bd8-42d0-9dba-c8f0a26b89ab",
   "metadata": {},
   "outputs": [],
   "source": [
    "np.set_printoptions(precision=3)"
   ]
  },
  {
   "cell_type": "code",
   "execution_count": 72,
   "id": "56308685-ce5a-4c21-ad99-a28f28734154",
   "metadata": {},
   "outputs": [
    {
     "data": {
      "text/plain": [
       "array([[4.918e-03, 2.463e-03, 7.733e-02, 2.250e-01, 1.170e-01, 1.540e-01,\n",
       "        2.788e-01, 1.371e-01, 1.320e-04, 3.241e-03]], dtype=float32)"
      ]
     },
     "execution_count": 72,
     "metadata": {},
     "output_type": "execute_result"
    }
   ],
   "source": [
    "model_2.predict(test)"
   ]
  },
  {
   "cell_type": "code",
   "execution_count": 73,
   "id": "c141279f-5ab3-427e-ba64-108afa735423",
   "metadata": {},
   "outputs": [
    {
     "data": {
      "text/plain": [
       "(10000, 10)"
      ]
     },
     "execution_count": 73,
     "metadata": {},
     "output_type": "execute_result"
    }
   ],
   "source": [
    "model_2.predict(x_val).shape"
   ]
  },
  {
   "cell_type": "code",
   "execution_count": 80,
   "id": "ff7bcffc-59c9-4183-ab08-5d581c0f787c",
   "metadata": {},
   "outputs": [
    {
     "data": {
      "text/plain": [
       "array([6])"
      ]
     },
     "execution_count": 80,
     "metadata": {},
     "output_type": "execute_result"
    }
   ],
   "source": [
    "np.argmax(model_2.predict(test), axis=-1)"
   ]
  },
  {
   "cell_type": "code",
   "execution_count": 77,
   "id": "395142a9-3d8e-4d59-a0c3-902ee917b13f",
   "metadata": {},
   "outputs": [
    {
     "data": {
      "text/plain": [
       "array([6], dtype=uint8)"
      ]
     },
     "execution_count": 77,
     "metadata": {},
     "output_type": "execute_result"
    }
   ],
   "source": [
    "y_val[0]"
   ]
  },
  {
   "cell_type": "code",
   "execution_count": 82,
   "id": "83c91057-e93e-473e-9305-6ed09d5251a2",
   "metadata": {},
   "outputs": [
    {
     "name": "stdout",
     "output_type": "stream",
     "text": [
      "Actual value: 6 vs. predicted: 6\n",
      "Actual value: 9 vs. predicted: 1\n",
      "Actual value: 9 vs. predicted: 9\n",
      "Actual value: 4 vs. predicted: 6\n",
      "Actual value: 1 vs. predicted: 1\n",
      "Actual value: 1 vs. predicted: 9\n",
      "Actual value: 2 vs. predicted: 2\n",
      "Actual value: 7 vs. predicted: 7\n",
      "Actual value: 8 vs. predicted: 8\n",
      "Actual value: 3 vs. predicted: 9\n"
     ]
    }
   ],
   "source": [
    "for number in range(10):\n",
    "    test_img = np.expand_dims(x_val[number], axis=0)\n",
    "    predicted_val = np.argmax(model_2.predict(test_img), axis=-1)[0]\n",
    "    print(f'Actual value: {y_val[number][0]} vs. predicted: {predicted_val}')"
   ]
  },
  {
   "cell_type": "markdown",
   "id": "2c47d435-1bdc-4b85-8a1b-c433536bb819",
   "metadata": {},
   "source": [
    "# Evaluation"
   ]
  },
  {
   "cell_type": "code",
   "execution_count": 83,
   "id": "fae1658a-30a4-4ccd-8538-4f1b167b6496",
   "metadata": {},
   "outputs": [
    {
     "data": {
      "text/plain": [
       "['loss', 'accuracy']"
      ]
     },
     "execution_count": 83,
     "metadata": {},
     "output_type": "execute_result"
    }
   ],
   "source": [
    "model_2.metrics_names"
   ]
  },
  {
   "cell_type": "code",
   "execution_count": 84,
   "id": "f200a220-da19-4d25-bf37-558925600bb9",
   "metadata": {},
   "outputs": [
    {
     "name": "stdout",
     "output_type": "stream",
     "text": [
      "313/313 [==============================] - 1s 3ms/step - loss: 1.4169 - accuracy: 0.4996\n",
      "Test loss is 1.42 and test accuracy is 50.0%\n"
     ]
    }
   ],
   "source": [
    "test_loss, test_accuracy = model_2.evaluate(x_test, y_test)\n",
    "print(f'Test loss is {test_loss:0.3} and test accuracy is {test_accuracy:0.1%}')"
   ]
  },
  {
   "cell_type": "markdown",
   "id": "ad5d84b2-ebd4-4a0d-969c-340bbb5c8a8f",
   "metadata": {},
   "source": [
    "### Confusion Matrix"
   ]
  },
  {
   "cell_type": "code",
   "execution_count": 98,
   "id": "be53ef07-4ef0-4d2c-913b-ca14dabd52be",
   "metadata": {},
   "outputs": [],
   "source": [
    "predictions = np.argmax(model_2.predict(x_test), axis=-1)\n",
    "conf_matrix = confusion_matrix(y_true=y_test, y_pred=predictions)"
   ]
  },
  {
   "cell_type": "code",
   "execution_count": 87,
   "id": "8589c383-0010-4916-baa1-26ddda3497a5",
   "metadata": {},
   "outputs": [
    {
     "data": {
      "text/plain": [
       "(10, 10)"
      ]
     },
     "execution_count": 87,
     "metadata": {},
     "output_type": "execute_result"
    }
   ],
   "source": [
    "conf_matrix.shape"
   ]
  },
  {
   "cell_type": "code",
   "execution_count": 88,
   "id": "650cf1ed-1185-49d1-a3c9-c80160513e15",
   "metadata": {},
   "outputs": [],
   "source": [
    "nr_rows = conf_matrix.shape[0]\n",
    "nr_cols = conf_matrix.shape[1]"
   ]
  },
  {
   "cell_type": "code",
   "execution_count": 89,
   "id": "10db0541-cd84-4c83-9171-caa1bb432f23",
   "metadata": {},
   "outputs": [
    {
     "data": {
      "text/plain": [
       "649"
      ]
     },
     "execution_count": 89,
     "metadata": {},
     "output_type": "execute_result"
    }
   ],
   "source": [
    "conf_matrix.max()"
   ]
  },
  {
   "cell_type": "code",
   "execution_count": 90,
   "id": "109f0549-2f8b-4c8b-bcd5-dbdf75156714",
   "metadata": {},
   "outputs": [
    {
     "data": {
      "text/plain": [
       "6"
      ]
     },
     "execution_count": 90,
     "metadata": {},
     "output_type": "execute_result"
    }
   ],
   "source": [
    "conf_matrix.min()"
   ]
  },
  {
   "cell_type": "code",
   "execution_count": 91,
   "id": "ab907139-b3b9-49df-bec5-9a7a80db8871",
   "metadata": {},
   "outputs": [
    {
     "data": {
      "text/plain": [
       "array([606,  21,  59,  18,  47,   9,  21,  30, 153,  36])"
      ]
     },
     "execution_count": 91,
     "metadata": {},
     "output_type": "execute_result"
    }
   ],
   "source": [
    "conf_matrix[0]"
   ]
  },
  {
   "cell_type": "code",
   "execution_count": 92,
   "id": "d98795c9-e3ac-4cb0-9d9d-67ce56a8eefd",
   "metadata": {},
   "outputs": [
    {
     "data": {
      "image/png": "[encoded data removed]",
      "text/plain": [
       "<Figure size 665x665 with 2 Axes>"
      ]
     },
     "metadata": {
      "needs_background": "light"
     },
     "output_type": "display_data"
    }
   ],
   "source": [
    "plt.figure(figsize=(7,7), dpi=95)\n",
    "plt.imshow(conf_matrix, cmap=plt.cm.Greens)\n",
    "\n",
    "plt.title('Confusion Matrix', fontsize=16)\n",
    "plt.ylabel('Actual Labels', fontsize=12)\n",
    "plt.xlabel('Predicted Labels', fontsize=12)\n",
    "\n",
    "tick_marks = np.arange(NR_CLASSES)\n",
    "plt.yticks(tick_marks, LABEL_NAMES)\n",
    "plt.xticks(tick_marks, LABEL_NAMES)\n",
    "\n",
    "plt.colorbar()\n",
    "\n",
    "for i, j in itertools.product(range(nr_rows), range(nr_cols)):\n",
    "    plt.text(j, i, conf_matrix[i, j], horizontalalignment='center',\n",
    "            color='white' if conf_matrix[i, j] > conf_matrix.max()/2 else 'black')\n",
    "    \n",
    "\n",
    "plt.show()"
   ]
  },
  {
   "cell_type": "code",
   "execution_count": 93,
   "id": "4a2801f0-0a21-4e61-9d77-895a2bc2e060",
   "metadata": {},
   "outputs": [
    {
     "data": {
      "text/plain": [
       "array([606, 565, 310, 266, 495, 362, 641, 581, 649, 521])"
      ]
     },
     "execution_count": 93,
     "metadata": {},
     "output_type": "execute_result"
    }
   ],
   "source": [
    "# True Positives\n",
    "np.diag(conf_matrix)"
   ]
  },
  {
   "cell_type": "code",
   "execution_count": 94,
   "id": "895beab6-707a-459e-96e1-0f0c7c28a4c9",
   "metadata": {},
   "outputs": [
    {
     "data": {
      "text/plain": [
       "array([0.606, 0.565, 0.31 , 0.266, 0.495, 0.362, 0.641, 0.581, 0.649,\n",
       "       0.521])"
      ]
     },
     "execution_count": 94,
     "metadata": {},
     "output_type": "execute_result"
    }
   ],
   "source": [
    "recall = np.diag(conf_matrix) / np.sum(conf_matrix, axis=1)\n",
    "recall"
   ]
  },
  {
   "cell_type": "code",
   "execution_count": 95,
   "id": "01d9d89a-7bfd-42a3-913b-0ae3af7fb7d8",
   "metadata": {},
   "outputs": [
    {
     "data": {
      "text/plain": [
       "array([0.518, 0.665, 0.38 , 0.356, 0.415, 0.43 , 0.486, 0.543, 0.577,\n",
       "       0.598])"
      ]
     },
     "execution_count": 95,
     "metadata": {},
     "output_type": "execute_result"
    }
   ],
   "source": [
    "precision = np.diag(conf_matrix) / np.sum(conf_matrix, axis=0)\n",
    "precision"
   ]
  },
  {
   "cell_type": "code",
   "execution_count": 96,
   "id": "cbf23e38-f1f7-4b7f-94c4-fa56cda62555",
   "metadata": {},
   "outputs": [
    {
     "name": "stdout",
     "output_type": "stream",
     "text": [
      "Model 2 recall score is 49.96%\n"
     ]
    }
   ],
   "source": [
    "avg_recall = np.mean(recall)\n",
    "print(f'Model 2 recall score is {avg_recall:.2%}')"
   ]
  },
  {
   "cell_type": "code",
   "execution_count": 97,
   "id": "3b950ad6-9821-4d8f-998a-11bdfc2a4b5b",
   "metadata": {},
   "outputs": [
    {
     "name": "stdout",
     "output_type": "stream",
     "text": [
      "Model 2 precision score is 49.69%\n",
      "Model 2 f score is 49.83%\n"
     ]
    }
   ],
   "source": [
    "avg_precision = np.mean(precision)\n",
    "print(f'Model 2 precision score is {avg_precision:.2%}')\n",
    "\n",
    "f1_score = 2 * (avg_precision * avg_recall) / (avg_precision + avg_recall)\n",
    "print(f'Model 2 f score is {f1_score:.2%}')"
   ]
  },
  {
   "cell_type": "code",
   "execution_count": null,
   "id": "e1f9d2de-a5cb-4aab-ac00-12e8f5ead85f",
   "metadata": {},
   "outputs": [],
   "source": []
  }
 ],
 "metadata": {
  "kernelspec": {
   "display_name": "Python 3 (ipykernel)",
   "language": "python",
   "name": "python3"
  },
  "language_info": {
   "codemirror_mode": {
    "name": "ipython",
    "version": 3
   },
   "file_extension": ".py",
   "mimetype": "text/x-python",
   "name": "python",
   "nbconvert_exporter": "python",
   "pygments_lexer": "ipython3",
   "version": "3.9.7"
  }
 },
 "nbformat": 4,
 "nbformat_minor": 5
}
